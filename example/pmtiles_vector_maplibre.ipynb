{
 "cells": [
  {
   "attachments": {},
   "cell_type": "markdown",
   "metadata": {},
   "source": [
    "\n",
    "[![Open in Google Colab](https://img.shields.io/badge/Open_in_Google_Colab-000000?style=for-the-badge&logo=googlecolab&logoColor=%23F9AB00)](https://colab.research.google.com/github/jtmiclat/folium-pmtiles/blob/master/example/pmtiles_vector_maplibre.ipynb) [![Open in Github.dev](https://img.shields.io/badge/Open_in_Github.dev-000000?style=for-the-badge&logo=GitHub&logoColor=ffffff)](https://github.dev/jtmiclat/folium-pmtiles/blob/master/example/pmtiles_vector_maplibre.ipynb/)\n"
   ]
  },
  {
   "cell_type": "code",
   "execution_count": 1,
   "metadata": {},
   "outputs": [],
   "source": [
    "# %pip install folium folium-pmtiles"
   ]
  },
  {
   "cell_type": "code",
   "execution_count": 2,
   "metadata": {},
   "outputs": [
    {
     "data": {
      "text/html": [
       "<div style=\"width:100%;\"><div style=\"position:relative;width:100%;height:0;padding-bottom:60%;\"><span style=\"color:#565656\">Make this Notebook Trusted to load map: File -> Trust Notebook</span><iframe srcdoc=\"&lt;!DOCTYPE html&gt;\n",
       "&lt;html&gt;\n",
       "&lt;head&gt;\n",
       "    \n",
       "    &lt;meta http-equiv=&quot;content-type&quot; content=&quot;text/html; charset=UTF-8&quot; /&gt;\n",
       "    \n",
       "        &lt;script&gt;\n",
       "            L_NO_TOUCH = false;\n",
       "            L_DISABLE_3D = false;\n",
       "        &lt;/script&gt;\n",
       "    \n",
       "    &lt;style&gt;html, body {width: 100%;height: 100%;margin: 0;padding: 0;}&lt;/style&gt;\n",
       "    &lt;style&gt;#map {position:absolute;top:0;bottom:0;right:0;left:0;}&lt;/style&gt;\n",
       "    &lt;script src=&quot;https://cdn.jsdelivr.net/npm/leaflet@1.9.3/dist/leaflet.js&quot;&gt;&lt;/script&gt;\n",
       "    &lt;script src=&quot;https://code.jquery.com/jquery-1.12.4.min.js&quot;&gt;&lt;/script&gt;\n",
       "    &lt;script src=&quot;https://cdn.jsdelivr.net/npm/bootstrap@5.2.2/dist/js/bootstrap.bundle.min.js&quot;&gt;&lt;/script&gt;\n",
       "    &lt;script src=&quot;https://cdnjs.cloudflare.com/ajax/libs/Leaflet.awesome-markers/2.0.2/leaflet.awesome-markers.js&quot;&gt;&lt;/script&gt;\n",
       "    &lt;link rel=&quot;stylesheet&quot; href=&quot;https://cdn.jsdelivr.net/npm/leaflet@1.9.3/dist/leaflet.css&quot;/&gt;\n",
       "    &lt;link rel=&quot;stylesheet&quot; href=&quot;https://cdn.jsdelivr.net/npm/bootstrap@5.2.2/dist/css/bootstrap.min.css&quot;/&gt;\n",
       "    &lt;link rel=&quot;stylesheet&quot; href=&quot;https://netdna.bootstrapcdn.com/bootstrap/3.0.0/css/bootstrap.min.css&quot;/&gt;\n",
       "    &lt;link rel=&quot;stylesheet&quot; href=&quot;https://cdn.jsdelivr.net/npm/@fortawesome/fontawesome-free@6.2.0/css/all.min.css&quot;/&gt;\n",
       "    &lt;link rel=&quot;stylesheet&quot; href=&quot;https://cdnjs.cloudflare.com/ajax/libs/Leaflet.awesome-markers/2.0.2/leaflet.awesome-markers.css&quot;/&gt;\n",
       "    &lt;link rel=&quot;stylesheet&quot; href=&quot;https://cdn.jsdelivr.net/gh/python-visualization/folium/folium/templates/leaflet.awesome.rotate.min.css&quot;/&gt;\n",
       "    \n",
       "            &lt;meta name=&quot;viewport&quot; content=&quot;width=device-width,\n",
       "                initial-scale=1.0, maximum-scale=1.0, user-scalable=no&quot; /&gt;\n",
       "            &lt;style&gt;\n",
       "                #map_d34a97ecee5af4140e5dd7a9382c1680 {\n",
       "                    position: relative;\n",
       "                    width: 100.0%;\n",
       "                    height: 100.0%;\n",
       "                    left: 0.0%;\n",
       "                    top: 0.0%;\n",
       "                }\n",
       "                .leaflet-container { font-size: 1rem; }\n",
       "            &lt;/style&gt;\n",
       "        \n",
       "    &lt;script src=&quot;https://unpkg.com/pmtiles@2.5.0/dist/index.js&quot;&gt;&lt;/script&gt;\n",
       "    &lt;script src=&quot;https://unpkg.com/maplibre-gl@2.2.1/dist/maplibre-gl.js&quot;&gt;&lt;/script&gt;\n",
       "    &lt;script src=&quot;https://unpkg.com/@maplibre/maplibre-gl-leaflet@0.0.17/leaflet-maplibre-gl.js&quot;&gt;&lt;/script&gt;\n",
       "    &lt;link rel=&quot;stylesheet&quot; href=&quot;https://unpkg.com/maplibre-gl@2.2.1/dist/maplibre-gl.css&quot;/&gt;\n",
       "&lt;/head&gt;\n",
       "&lt;body&gt;\n",
       "    \n",
       "    \n",
       "            &lt;div class=&quot;folium-map&quot; id=&quot;map_d34a97ecee5af4140e5dd7a9382c1680&quot; &gt;&lt;/div&gt;\n",
       "        \n",
       "&lt;/body&gt;\n",
       "&lt;script&gt;\n",
       "    \n",
       "    \n",
       "            var map_d34a97ecee5af4140e5dd7a9382c1680 = L.map(\n",
       "                &quot;map_d34a97ecee5af4140e5dd7a9382c1680&quot;,\n",
       "                {\n",
       "                    center: [43.7798, 11.24148],\n",
       "                    crs: L.CRS.EPSG3857,\n",
       "                    zoom: 13,\n",
       "                    zoomControl: true,\n",
       "                    preferCanvas: false,\n",
       "                }\n",
       "            );\n",
       "\n",
       "            \n",
       "\n",
       "        \n",
       "    \n",
       "            var tile_layer_970cfaba433b3d24eb90977fd91848ad = L.tileLayer(\n",
       "                &quot;https://cartodb-basemaps-{s}.global.ssl.fastly.net/light_all/{z}/{x}/{y}.png&quot;,\n",
       "                {&quot;attribution&quot;: &quot;\\u0026copy; \\u003ca target=\\&quot;_blank\\&quot; href=\\&quot;http://www.openstreetmap.org/copyright\\&quot;\\u003eOpenStreetMap\\u003c/a\\u003e contributors \\u0026copy; \\u003ca target=\\&quot;_blank\\&quot; href=\\&quot;http://cartodb.com/attributions\\&quot;\\u003eCartoDB\\u003c/a\\u003e, CartoDB \\u003ca target=\\&quot;_blank\\&quot; href =\\&quot;http://cartodb.com/attributions\\&quot;\\u003eattributions\\u003c/a\\u003e&quot;, &quot;detectRetina&quot;: false, &quot;maxNativeZoom&quot;: 18, &quot;maxZoom&quot;: 18, &quot;minZoom&quot;: 0, &quot;noWrap&quot;: false, &quot;opacity&quot;: 1, &quot;subdomains&quot;: &quot;abc&quot;, &quot;tms&quot;: false}\n",
       "            ).addTo(map_d34a97ecee5af4140e5dd7a9382c1680);\n",
       "        \n",
       "    let protocol = new pmtiles.Protocol();\n",
       "            maplibregl.addProtocol(&quot;pmtiles&quot;, protocol.tile);\n",
       "\n",
       "           map_d34a97ecee5af4140e5dd7a9382c1680.createPane(&#x27;overlay&#x27;);\n",
       "           map_d34a97ecee5af4140e5dd7a9382c1680.getPane(&#x27;overlay&#x27;).style.zIndex = 650;\n",
       "           map_d34a97ecee5af4140e5dd7a9382c1680.getPane(&#x27;overlay&#x27;).style.pointerEvents = &#x27;none&#x27;;\n",
       "\n",
       "            var pm_tiles_vector_c7480b01a9398330d3ed304391192d30 = L.maplibreGL({\n",
       "            pane: &#x27;overlay&#x27;,\n",
       "            style: {&quot;layers&quot;: [{&quot;id&quot;: &quot;buildings&quot;, &quot;paint&quot;: {&quot;fill-color&quot;: &quot;steelblue&quot;}, &quot;source&quot;: &quot;example_source&quot;, &quot;source-layer&quot;: &quot;landuse&quot;, &quot;type&quot;: &quot;fill&quot;}, {&quot;id&quot;: &quot;roads&quot;, &quot;paint&quot;: {&quot;line-color&quot;: &quot;black&quot;}, &quot;source&quot;: &quot;example_source&quot;, &quot;source-layer&quot;: &quot;roads&quot;, &quot;type&quot;: &quot;line&quot;}], &quot;sources&quot;: {&quot;example_source&quot;: {&quot;attribution&quot;: &quot;\\u003ca href=\\&quot;https://protomaps.com\\&quot;\\u003eProtomaps\\u003c/a\\u003e \\u00a9 \\u003ca href=\\&quot;https://openstreetmap.org/copyright\\&quot;\\u003eOpenStreetMap\\u003c/a\\u003e&quot;, &quot;type&quot;: &quot;vector&quot;, &quot;url&quot;: &quot;pmtiles://https://pmtiles.jtmiclat.me/protomaps(vector)ODbL_firenze.pmtiles&quot;}}, &quot;version&quot;: 8}\n",
       "            }).addTo(map_d34a97ecee5af4140e5dd7a9382c1680);\n",
       "&lt;/script&gt;\n",
       "&lt;/html&gt;\" style=\"position:absolute;width:100%;height:100%;left:0;top:0;border:none !important;\" allowfullscreen webkitallowfullscreen mozallowfullscreen></iframe></div></div>"
      ],
      "text/plain": [
       "<folium.folium.Map at 0x1056bf8e0>"
      ]
     },
     "execution_count": 2,
     "metadata": {},
     "output_type": "execute_result"
    }
   ],
   "source": [
    "import folium\n",
    "\n",
    "from folium_pmtiles.vector import PMTilesMapLibreLayer\n",
    "\n",
    "m = folium.Map(location=[43.7798, 11.24148], zoom_start=13, tiles=\"cartodb positron\")\n",
    "pmtiles_url = \"https://pmtiles.jtmiclat.me/protomaps(vector)ODbL_firenze.pmtiles\"\n",
    "pmtiles_layer = PMTilesMapLibreLayer(\n",
    "    \"folium_layer_name\",\n",
    "    style={\n",
    "        \"version\": 8,\n",
    "        \"sources\": {\n",
    "            \"example_source\": {\n",
    "                \"type\": \"vector\",\n",
    "                \"url\": \"pmtiles://\" + pmtiles_url,\n",
    "                \"attribution\": '<a href=\"https://protomaps.com\">Protomaps</a> © <a href=\"https://openstreetmap.org/copyright\">OpenStreetMap</a>',\n",
    "            }\n",
    "        },\n",
    "        \"layers\": [\n",
    "            {\n",
    "                \"id\": \"buildings\",\n",
    "                \"source\": \"example_source\",\n",
    "                \"source-layer\": \"landuse\",\n",
    "                \"type\": \"fill\",\n",
    "                \"paint\": {\"fill-color\": \"steelblue\"},\n",
    "            },\n",
    "            {\n",
    "                \"id\": \"roads\",\n",
    "                \"source\": \"example_source\",\n",
    "                \"source-layer\": \"roads\",\n",
    "                \"type\": \"line\",\n",
    "                \"paint\": {\"line-color\": \"black\"},\n",
    "            },\n",
    "        ],\n",
    "    },\n",
    ")\n",
    "m.add_child(pmtiles_layer)"
   ]
  }
 ],
 "metadata": {
  "kernelspec": {
   "display_name": "folium-pmtiles",
   "language": "python",
   "name": "python3"
  },
  "language_info": {
   "codemirror_mode": {
    "name": "ipython",
    "version": 3
   },
   "file_extension": ".py",
   "mimetype": "text/x-python",
   "name": "python",
   "nbconvert_exporter": "python",
   "pygments_lexer": "ipython3",
   "version": "3.9.16"
  },
  "orig_nbformat": 4,
  "vscode": {
   "interpreter": {
    "hash": "a89b7232a019ae6a2e08c3993951ee017186891e828efb2ae5602910061568ab"
   }
  }
 },
 "nbformat": 4,
 "nbformat_minor": 2
}
