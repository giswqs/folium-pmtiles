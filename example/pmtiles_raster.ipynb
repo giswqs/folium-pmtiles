{
 "cells": [
  {
   "cell_type": "code",
   "execution_count": null,
   "metadata": {},
   "outputs": [],
   "source": [
    "%pip install folium"
   ]
  },
  {
   "cell_type": "code",
   "execution_count": null,
   "metadata": {},
   "outputs": [],
   "source": [
    "import folium\n",
    "from folium_pmtiles import PMTilesRaster\n",
    "\n",
    "m = folium.Map(location=[43.7798, 11.24148])\n",
    "pmtiles_layer = PMTilesRaster(\n",
    "    \"https://protomaps.github.io/PMTiles/stamen_toner(raster)CC-BY+ODbL_z3.pmtiles\",\n",
    "    \"folium_layer_name\",\n",
    ")\n",
    "m.add_child(pmtiles_layer)"
   ]
  }
 ],
 "metadata": {
  "kernelspec": {
   "display_name": "folium-pmtiles-lIZnPiTa-py3.9",
   "language": "python",
   "name": "python3"
  },
  "language_info": {
   "name": "python",
   "version": "3.9.11"
  },
  "orig_nbformat": 4,
  "vscode": {
   "interpreter": {
    "hash": "143ea7da51cc96f5272f325f2a38ecad1f038dd431e384d1d20fb806fb102bca"
   }
  }
 },
 "nbformat": 4,
 "nbformat_minor": 2
}
