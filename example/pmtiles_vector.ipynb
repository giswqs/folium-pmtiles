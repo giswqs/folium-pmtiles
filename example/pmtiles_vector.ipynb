{
 "cells": [
  {
   "cell_type": "code",
   "execution_count": null,
   "metadata": {},
   "outputs": [],
   "source": [
    "%pip install folium"
   ]
  },
  {
   "cell_type": "code",
   "execution_count": null,
   "metadata": {},
   "outputs": [],
   "source": [
    "import folium \n",
    "from folium_pmtiles.PMTilesVector import PMTilesVector\n",
    "m = folium.Map(location=[43.7798, 11.24148])\n",
    "pmtiles_layer = PMTilesVector(\"https://protomaps.github.io/PMTiles/protomaps(vector)ODbL_firenze.pmtiles\", \"folium_layer_name\")\n",
    "m.add_child(pmtiles_layer)\n"
   ]
  }
 ],
 "metadata": {
  "kernelspec": {
   "display_name": "folium-pmtiles-lIZnPiTa-py3.9",
   "language": "python",
   "name": "python3"
  },
  "language_info": {
   "name": "python",
   "version": "3.9.11"
  },
  "orig_nbformat": 4,
  "vscode": {
   "interpreter": {
    "hash": "143ea7da51cc96f5272f325f2a38ecad1f038dd431e384d1d20fb806fb102bca"
   }
  }
 },
 "nbformat": 4,
 "nbformat_minor": 2
}
